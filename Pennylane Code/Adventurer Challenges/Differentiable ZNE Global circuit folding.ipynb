{
 "cells": [
  {
   "cell_type": "markdown",
   "metadata": {},
   "source": [
    "# Differentiable ZNE: Global circuit folding"
   ]
  },
  {
   "cell_type": "markdown",
   "metadata": {},
   "source": [
    "In the \"Explorer\" level challenge, you looked at modelling noise in a quantum computer. Let's take an adventure into the realm of error-mitigation with the introduction of global circuit folding.\n",
    "\n",
    "Error mitigation is the idea that we can bypass, or mitigate, errors that are present in real quantum hardware without actually doing anything to the hardware itself. Remember those bitflip errors you looked at? What if there was a way to get rid of them without actually getting rid of them?\n",
    "\n",
    "How can we do this in practice? With zero-noise extrapolation (ZNE)!\n",
    "\n",
    "The ZNE protocol approaches error mitigation in a somewhat backwards way; instead of coming up with a way to reduce the error directly, we instead increase the error and extrapolate back to zero error. In other words, we want to create more noise in order to extrapolate less noise. So how do we create more noise?\n",
    "\n",
    "One way to create more noise in a quantum circuit being run on real hardware is to increase the depth of the quantum circuit. Imagine I have some unitary $U$ that describes my quantum circuit. I still want my circuit to effectively be described by $U$, but what's to stop us from doing this: $U\\to U\\mathbb{I}^n = U(U^{\\dag}U)^n$? At the end of the day, the circuit is still doing the same thing, but we've increased the number of gates in the circuit $d$ to be $d\\to d(2n+1)$. If programming each gate onto a real device imparts some noise, we've introduced more noise from this mapping!\n",
    "\n",
    "We can generalize the mapping $U\\to U(U^{\\dag}U)^n$ further by including partial folds: $$U\\to U(U^{\\dag}U)^n\\to U\\to U(U^{\\dag}U)^n L_d^{\\dag}\\dots L_s^{\\dag}L_s\\dots L_d$$\n",
    "\n",
    "where $s\\in[1, d]$ and $L_i$ denotes a quantum gate within $U$. Specifically, $U=L_1L_2\\dots L_s\\dots L_d$. In this challenge, you will implement a noisy circuit $U\\to U(U^{\\dag}U)^n\\to U\\to U(U^{\\dag}U)^n L_d^{\\dag}\\dots L_s^{\\dag}L_s\\dots L_d$."
   ]
  },
  {
   "cell_type": "markdown",
   "metadata": {},
   "source": [
    "## Challenge code\n",
    "The provided code below contains several functions:\n",
    "\n",
    "* `U`: A quantum function that applies the gates in the circuit (i.e. all of the $L_i$'s):\n",
    "\n",
    "![](images/circuit.png)\n",
    "\n",
    "* `circuit`: A noisy circuit using $U$, where noise is placed on every gate (see dev_noisy). Here, the noise is described by a depolarizing channel.\n",
    "\n",
    "* `circuit_ops`: A function that returns all of the gates in circuit.\n",
    "\n",
    "* `global_fold_circuit`: A noisy circuit that implements the global circuit folding protocol: $U(U^\\dag U)^n L_d^\\dag\\dots L_s^\\dag L_s\\dots L_d$. You must complete this function.\n",
    "\n",
    "* `fidelity`: A function that calculates the fidelity between the output state from `circuit` (i.e. the original circuit) and the state from `global_fold_circuit`. Your `global_fold_circuit` function's validity will be assessed via the `fidelity` function."
   ]
  },
  {
   "cell_type": "markdown",
   "metadata": {},
   "source": [
    "### Input\n",
    "\n",
    "As input to this problem, you will be given:\n",
    "\n",
    "* `angle`: a rotation angle needed to define `U`\n",
    "* `n`: the number of times $U^\\dag U$ gets implemented\n",
    "* `s`: the parameter that defines $L_s\\dots L_d$\n",
    "\n",
    "Please note that `s` will be given as an integer $[1, d]$. Make sure to index properly!"
   ]
  },
  {
   "cell_type": "markdown",
   "metadata": {},
   "source": [
    "### Output\n",
    "This code will output the fidelity, a `float`, between the output state from `circuit` and the state from `global_fold_circuit`.\n",
    "\n",
    "If your solution matches the correct one within the given tolerance specified in `check` (in this case it's a `1e-4` relative error tolerance), the output will be `\"Correct!\"`. Otherwise, you will receive a `\"Wrong answer\"` prompt."
   ]
  },
  {
   "cell_type": "code",
   "execution_count": 1,
   "metadata": {},
   "outputs": [
    {
     "name": "stdout",
     "output_type": "stream",
     "text": [
      "Running test case 0 with input '[0.4, 2, 3]'...\n",
      "Correct!\n"
     ]
    }
   ],
   "source": [
    "import functools\n",
    "import json\n",
    "import math\n",
    "import pandas as pd\n",
    "import pennylane as qml\n",
    "import pennylane.numpy as np\n",
    "import scipy\n",
    "\n",
    "dev_ideal = qml.device(\"default.mixed\", wires=2)  # no noise\n",
    "dev_noisy = qml.transforms.insert(qml.DepolarizingChannel, 0.05, position=\"all\")(\n",
    "    dev_ideal\n",
    ")\n",
    "\n",
    "def U(angle):\n",
    "    \"\"\"A quantum function containing one parameterized gate.\n",
    "\n",
    "    Args:\n",
    "        angle (float): The phase angle for an IsingXY operator\n",
    "    \"\"\"\n",
    "    qml.Hadamard(0)\n",
    "    qml.Hadamard(1)\n",
    "    qml.CNOT(wires=[0, 1])\n",
    "    qml.PauliZ(1)\n",
    "    qml.IsingXY(angle, [0, 1])\n",
    "    qml.S(1)\n",
    "\n",
    "@qml.qnode(dev_noisy)\n",
    "def circuit(angle):\n",
    "    \"\"\"A quantum circuit made from the quantum function U.\n",
    "\n",
    "    Args:\n",
    "        angle (float): The phase angle for an IsingXY operator\n",
    "    \"\"\"\n",
    "    U(angle)\n",
    "    return qml.state()\n",
    "\n",
    "@qml.tape.stop_recording()\n",
    "def circuit_ops(angle):\n",
    "    \"\"\"A function that outputs the operations within the quantum function U.\n",
    "\n",
    "    Args:\n",
    "        angle (float): The phase angle for an IsingXY operator\n",
    "    \"\"\"\n",
    "    with qml.tape.QuantumTape() as tape:\n",
    "        U(angle)\n",
    "    return tape.operations\n",
    "\n",
    "\n",
    "@qml.qnode(dev_noisy)\n",
    "def global_fold_circuit(angle, n, s):\n",
    "    \"\"\"Performs the global circuit folding procedure.\n",
    "\n",
    "    Args:\n",
    "        angle (float): The phase angle for an IsingXY operator\n",
    "        n: The number of times U^\\dagger U is applied\n",
    "        s: The integer defining L_s ... L_d.\n",
    "    \"\"\"\n",
    "    assert s <= len(\n",
    "        circuit_ops(angle)\n",
    "    ), \"The value of s is upper-bounded by the number of gates in the circuit.\"\n",
    "\n",
    "    U(angle)                                # Original circuit application\n",
    "\n",
    "    operations_list = circuit_ops(angle)    # list of operations\n",
    "    \n",
    "    for step in range(n):                   # (U^\\dagger U)^n\n",
    "        qml.adjoint(U)(angle)\n",
    "        U(angle)\n",
    "    \n",
    "    for op in operations_list[s-1:][::-1]: \n",
    "        qml.adjoint(op)                     # L_d^\\dagger ... L_s^\\dagger\n",
    "\n",
    "    for op in operations_list[s-1:]:          # L_s ... L_d\n",
    "        qml.apply(op)\n",
    "\n",
    "    return qml.state()\n",
    "\n",
    "\n",
    "\n",
    "def fidelity(angle, n, s):\n",
    "    fid = qml.math.fidelity(global_fold_circuit(angle, n, s), circuit(angle))\n",
    "    return np.round_(fid, decimals=5)\n",
    "\n",
    "\n",
    "# These functions are responsible for testing the solution.\n",
    "\n",
    "def run(test_case_input: str) -> str:\n",
    "    angle, n, s = json.loads(test_case_input)\n",
    "    fid = fidelity(angle, n, s)\n",
    "    return str(fid)\n",
    "\n",
    "def check(solution_output: str, expected_output: str) -> None:\n",
    "    solution_output = json.loads(solution_output)\n",
    "    expected_output = json.loads(expected_output)\n",
    "    assert np.allclose(\n",
    "        solution_output, expected_output, rtol=1e-4\n",
    "    ), \"Your folded circuit isn't quite right!\"\n",
    "\n",
    "\n",
    "test_cases = [['[0.4, 2, 3]', '0.79209']]\n",
    "\n",
    "for i, (input_, expected_output) in enumerate(test_cases):\n",
    "    print(f\"Running test case {i} with input '{input_}'...\")\n",
    "\n",
    "    try:\n",
    "        output = run(input_)\n",
    "\n",
    "    except Exception as exc:\n",
    "        print(f\"Runtime Error. {exc}\")\n",
    "\n",
    "    else:\n",
    "        message = 0\n",
    "        if message == check(output, expected_output):\n",
    "            print(f\"Wrong Answer. Have: '{output}'. Want: '{expected_output}'.\")\n",
    "\n",
    "        else:\n",
    "            print(\"Correct!\")"
   ]
  },
  {
   "cell_type": "code",
   "execution_count": 2,
   "metadata": {},
   "outputs": [
    {
     "name": "stdout",
     "output_type": "stream",
     "text": [
      "0: ──H─╭●────╭IsingXY(0.40)────────╭IsingXY(0.40)†─────╭●───H†──H─╭●────╭IsingXY(0.40)───────\n",
      "1: ──H─╰X──Z─╰IsingXY(0.40)──S──S†─╰IsingXY(0.40)†──Z†─╰X†──H†──H─╰X──Z─╰IsingXY(0.40)──S──S†\n",
      "\n",
      "──╭IsingXY(0.40)†─────╭●───H†──H─╭●────╭IsingXY(0.40)────────╭IsingXY(0.40)†────────╭IsingXY(0.40)\n",
      "──╰IsingXY(0.40)†──Z†─╰X†──H†──H─╰X──Z─╰IsingXY(0.40)──S──S†─╰IsingXY(0.40)†──Z†──Z─╰IsingXY(0.40)\n",
      "\n",
      "─────┤  State\n",
      "───S─┤  State\n"
     ]
    }
   ],
   "source": [
    "print(qml.draw(global_fold_circuit)(0.4, 2, 4))"
   ]
  },
  {
   "cell_type": "code",
   "execution_count": null,
   "metadata": {},
   "outputs": [],
   "source": []
  }
 ],
 "metadata": {
  "kernelspec": {
   "display_name": "Python 3.7.13 ('base')",
   "language": "python",
   "name": "python3"
  },
  "language_info": {
   "codemirror_mode": {
    "name": "ipython",
    "version": 3
   },
   "file_extension": ".py",
   "mimetype": "text/x-python",
   "name": "python",
   "nbconvert_exporter": "python",
   "pygments_lexer": "ipython3",
   "version": "3.7.13"
  },
  "orig_nbformat": 4,
  "vscode": {
   "interpreter": {
    "hash": "7cc63d8bb06c1e0227ac9b01a159a9605014b04eb1faff35da1ccc42cc4f7246"
   }
  }
 },
 "nbformat": 4,
 "nbformat_minor": 2
}
