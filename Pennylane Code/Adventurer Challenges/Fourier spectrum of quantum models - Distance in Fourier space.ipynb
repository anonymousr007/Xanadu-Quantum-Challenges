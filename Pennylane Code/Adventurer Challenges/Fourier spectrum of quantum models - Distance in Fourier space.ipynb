{
 "cells": [
  {
   "cell_type": "markdown",
   "metadata": {},
   "source": [
    "# Fourier spectrum of quantum models - Distance in Fourier space\n",
    "\n",
    "Quantum models can be used to approximate real functions that take in one (or even several) real variables. But how good is this approximation? One way to measure the closeness of the approximate to the analytic function is by calculating the $\\mathcal{l}^2$ distance in Fourier space, which we will define later. For the purposes of this challenge, we are interested in approximating a function $\\mathbb{f}:\\mathbb{R}\\to\\mathbb{R}$  with discrete Fourier expansion $$f(x) = \\sum_{\\omega=-3}^{\\omega=3}c_\\omega e^{i\\omega x}$$\n",
    "where the $c_\\omega$ are complex numbers knows as Fourier coefficients. We see that the function can be decomposed into sinusoidal waves of frequencies 0, 1, 2 or 3. An interesting result in quantum machine learning is that we can get such functions by using a model with an _in-parallel encoding block_ containing three $\\mathbf{RX}$ gates, one in each wire, as shown below:"
   ]
  },
  {
   "cell_type": "markdown",
   "metadata": {},
   "source": [
    "<!-- ![](images/three_parallel.png) -->\n",
    "<img src=\"images/three_parallel.png\" alt=\"drawing\" width=\"500\"/>\n",
    "\n",
    "At the end, the expectation value of the Pauli-Z observable is calculated on the first wire. The trainable circuit blocks $W^{(i)}$ depend on three parameters each, and correspond to a _[Basic Entangler](https://docs.pennylane.ai/en/stable/code/api/pennylane.BasicEntanglerLayers.html?highlight=basicentangler#pennylane.BasicEntanglerLayers)_:"
   ]
  },
  {
   "cell_type": "markdown",
   "metadata": {},
   "source": [
    "<!-- ![](images/entangler.png) -->\n",
    "<img src=\"images/entangler.png\" alt=\"drawing\" width=\"500\"/>\n",
    "\n",
    "Let us denote the output $\\braket{Z}$ of the quantum model by $g_{\\theta}(x)$, where $\\theta$ is the set of parameters in the trainable circuit blocks. This real function has a Fourier expansion $$g_{\\theta}(x) = \\sum_{\\omega=-3}^{\\omega=3} b_{\\omega}(\\theta)e^{i\\omega x}$$\n",
    "Then the **squared** $\\mathcal{l}^2$ distance in Fourier space between $\\mathbb{f}$ and $\\mathbb{g}$ is given by $$d(f, g_{\\theta})^2 = \\sum_{\\omega=-3}^{\\omega=3} |c_\\omega-b_\\omega(\\theta)|^2$$\n",
    "Your task is to calculate this **squared distance**, given the coefficients $c_\\omega$ of the function $f$ and the parameters $\\theta$ of the circuit.\n",
    "\n",
    "To accomplish this, you will need to find the Fourier coefficients of the quantum circuit."
   ]
  },
  {
   "cell_type": "markdown",
   "metadata": {},
   "source": [
    "## Challenge code\n",
    "You must complete the `fourier_squared_distance` function return the squared $\\mathbb{l}^2$ distance in Fourier space between the target function and our quantum model evaluated on some parameters $\\theta$.\n",
    "\n",
    "## Input\n",
    "As input to this problem, you will be given:\n",
    "\n",
    "* `list_of_coeffs` (list(np.complex)): List of seven elements representing the Fourier coefficients of $f$, in the conventional order $[c_0, c_1, c_2, c_3, c_{-3}, c_{-2},c_{-1}]$.\n",
    "* `param_list` (list(float)): List of the six parameters characterizing each of the two Basic Entanglers in our circuit. The first three elements are the parameters in the first entangler, from the top to the bottom wire. The last three elements correspond to the second entangler, with a similar wire order.\n",
    "\n",
    "## Output\n",
    "This code will output the squared $\\mathbb{l}^2$ distance, `float`, which is the distance in Fourier space between the target function and our quantum model.\n",
    "\n",
    "If your solution matches the correct one within the given tolerance specified in `check` (in this case it's an absolute tolerance of `0.01`), the output will be `\"Correct!\"`. Otherwise, you will receive a `\"Wrong answer\"` prompt."
   ]
  },
  {
   "cell_type": "code",
   "execution_count": 1,
   "metadata": {},
   "outputs": [
    {
     "name": "stdout",
     "output_type": "stream",
     "text": [
      "Running test case 0 with input '[[-1.12422548e-01,  0.0, 9.47909940e-02, 0.0, 0.0, 9.47909940e-02, 0.0],[2,2,2,3,4,5]]'...\n",
      "Correct!\n",
      "Running test case 1 with input '[[-2.51161988e-01, 0.0, 1.22546112e-01, 0.0, 0.0,  1.22546112e-01, 0.0],[1.1,0.3,0.4,0.6,0.8,0.9]]'...\n",
      "Correct!\n"
     ]
    }
   ],
   "source": [
    "import functools\n",
    "import json\n",
    "import math\n",
    "import pandas as pd\n",
    "import pennylane as qml\n",
    "import pennylane.numpy as np\n",
    "import scipy\n",
    "\n",
    "def fourier_squared_distance(list_of_coeffs, param_list):\n",
    "    \"\"\"\n",
    "    Returns the squared l2-distance in Fourier space between a function\n",
    "    characterized by its Fourier coefficients and the output of the\n",
    "    quantum model\n",
    "\n",
    "    Args:\n",
    "        list_of coeffs (list(float)): A list of seven coefficients\n",
    "                                      corresponding to the Fourier\n",
    "                                      coefficients of the function we\n",
    "                                      want to approximate\n",
    "        param_list (list(float)): A list of six parameters characterizing\n",
    "                                  the angles in the trainable circuit.\n",
    "\n",
    "    Returns: (float): Squared l2-distance between the given function\n",
    "                      and the output of the quantum model\n",
    "    \"\"\"\n",
    "\n",
    "    dev = qml.device(\"default.qubit\", wires=3)\n",
    "\n",
    "    def W(params):\n",
    "        alpha, beta, gamma = params\n",
    "        qml.RX(alpha, wires=0)\n",
    "        qml.RX(beta, wires=1)\n",
    "        qml.RX(gamma, wires=2)\n",
    "        qml.CNOT(wires=[0,1])\n",
    "        qml.CNOT(wires=[1,2])\n",
    "        qml.CNOT(wires=[2,0])\n",
    "\n",
    "    @qml.qnode(dev)\n",
    "    def circuit(param_list, x=0):\n",
    "        \"\"\"This circuit returns the PauliZ expectation of\n",
    "        the quantum model in the statement\"\"\"\n",
    "        theta_1 = param_list[:3]\n",
    "        theta_2 = param_list[3:]\n",
    "        W(theta_1)\n",
    "        qml.RX(x, wires=0, id=\"x0\")\n",
    "        qml.RX(x, wires=1, id=\"x1\")\n",
    "        qml.RX(x, wires=2, id=\"x2\")\n",
    "        W(theta_2)\n",
    "        return qml.expval(qml.PauliZ(0))\n",
    "\n",
    "    # Let's calculate the Fourier coefficients:\n",
    "    partial_circuit = functools.partial(circuit, param_list)\n",
    "    coefficients = qml.fourier.coefficients(partial_circuit, n_inputs=1, degree=3)\n",
    "\n",
    "    def squared_distance(list_of_coef, coefficients):\n",
    "        res = 0\n",
    "        for i in range(len(list_of_coef)):\n",
    "            res += (np.abs(list_of_coef[i]-coefficients[i]))**2\n",
    "        return res\n",
    "\n",
    "    return squared_distance(list_of_coeffs, coefficients)\n",
    "\n",
    "# These functions are responsible for testing the solution.\n",
    "\n",
    "def run(test_case_input: str) -> str:\n",
    "\n",
    "    ins = json.loads(test_case_input)\n",
    "    output = fourier_squared_distance(*ins)\n",
    "\n",
    "    return str(output)\n",
    "\n",
    "def check(solution_output: str, expected_output: str) -> None:\n",
    "    \"\"\"\n",
    "    Compare solution with expected.\n",
    "\n",
    "    Args:\n",
    "            solution_output: The output from an evaluated solution. Will be\n",
    "            the same type as returned.\n",
    "            expected_output: The correct result for the test case.\n",
    "\n",
    "    Raises:\n",
    "            ``AssertionError`` if the solution output is incorrect in any way.\n",
    "    \"\"\"\n",
    "\n",
    "    solution_output = json.loads(solution_output)\n",
    "    expected_output = json.loads(expected_output)\n",
    "    assert np.allclose(\n",
    "        solution_output, expected_output, rtol=1e-2\n",
    "    ), \"Your calculated squared distance isn't quite right.\"\n",
    "\n",
    "\n",
    "test_cases = [['[[-1.12422548e-01,  0.0, 9.47909940e-02, 0.0, 0.0, 9.47909940e-02, 0.0],[2,2,2,3,4,5]]', '0.0036766085933034303'], ['[[-2.51161988e-01, 0.0, 1.22546112e-01, 0.0, 0.0,  1.22546112e-01, 0.0],[1.1,0.3,0.4,0.6,0.8,0.9]]', '0.6538589174369286']]\n",
    "\n",
    "for i, (input_, expected_output) in enumerate(test_cases):\n",
    "    print(f\"Running test case {i} with input '{input_}'...\")\n",
    "\n",
    "    try:\n",
    "        output = run(input_)\n",
    "\n",
    "    except Exception as exc:\n",
    "        print(f\"Runtime Error. {exc}\")\n",
    "\n",
    "    else:\n",
    "        message = 0\n",
    "        if message == check(output, expected_output):\n",
    "            print(f\"Wrong Answer. Have: '{output}'. Want: '{expected_output}'.\")\n",
    "\n",
    "        else:\n",
    "            print(\"Correct!\")"
   ]
  },
  {
   "cell_type": "code",
   "execution_count": null,
   "metadata": {},
   "outputs": [],
   "source": []
  }
 ],
 "metadata": {
  "kernelspec": {
   "display_name": "Python 3.7.13 ('base')",
   "language": "python",
   "name": "python3"
  },
  "language_info": {
   "codemirror_mode": {
    "name": "ipython",
    "version": 3
   },
   "file_extension": ".py",
   "mimetype": "text/x-python",
   "name": "python",
   "nbconvert_exporter": "python",
   "pygments_lexer": "ipython3",
   "version": "3.7.13"
  },
  "orig_nbformat": 4,
  "vscode": {
   "interpreter": {
    "hash": "7cc63d8bb06c1e0227ac9b01a159a9605014b04eb1faff35da1ccc42cc4f7246"
   }
  }
 },
 "nbformat": 4,
 "nbformat_minor": 2
}
