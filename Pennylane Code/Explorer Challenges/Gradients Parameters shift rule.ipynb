{
 "cells": [
  {
   "cell_type": "markdown",
   "metadata": {},
   "source": [
    "# Gradients: The parameter-shift rule\n",
    "\n",
    "There are many ways of differentiating quantum circuits. One such way that is also hardware-compatible (i.e., it can be computed using a real quantum computer) is the parameter-shift rule. Here, we'll explore using the parameter-shift rule in the simplest case: for differentiating the Pauli rotation gates.\n",
    "\n",
    "Consider a circuit given by a unitary $U(\\vec{\\theta})$, where $\\vec{\\theta} = (\\theta_1, \\dots, \\theta_n)$ are real differentiable parameters, whose output is an expectation value with respect to an observable A: $$f(\\vec{\\theta}) = \\bra{0}U^{\\dag}(\\vec{\\theta})AU(\\vec{\\theta})\\ket{0}$$\n",
    "\n",
    "If the parameterized gates in $U(\\vec{\\theta})$ were only composed of Pauli rotation gates ($\\mathbf{RX}$, $\\mathbf{RY}$, and $\\mathbf{RZ}$), then differentiating $f(\\vec{\\theta})$ with respect to one of the parameters can be shown to simplify to $$\\frac{\\partial}{\\partial \\theta_i}f(\\vec{\\theta}) = \\frac{f(\\theta_1, \\dots, \\theta_i+s,\\dots,\\theta_n)-f(\\theta_1, \\dots, \\theta_i-s,\\dots,\\theta_n)}{2sin(s)}$$\n",
    "\n",
    "where $s$ is a finite-valued _shift_. Although this looks eerily similar to differentiation via finite-differences, $s$ need not be infinitesimally small! In this problem, you will implement the parameter-shift rule for the Pauli rotation gates yourself.\n",
    "\n",
    "## Challenge code\n",
    "In the provided code, you are given a couple of functions:\n",
    "\n",
    "* `circuit`: This describes the function .\n",
    "* `my_parameter_shift_grad`: This is where you will implement calculating  for every . It will return the gradient, which is a vector containing every partial derivative. You must complete this function.\n",
    "\n",
    "## Input\n",
    "As input to this problem, you are given:\n",
    "\n",
    "* `params` (`list(float)`): a list corresponding to $\\vec{\\theta}$.\n",
    "* `shift` (`float`): the shift amount, corresponding to $s$.\n",
    "\n",
    "## Output\n",
    "This code will output the `gradient` (`list(float)`) of the `circuit`.\n",
    "\n",
    "If your solution matches the correct one within the given tolerance specified in `check` (in this case it's a `1e-4` relative error tolerance), the output will be `\"Correct!\"`. Otherwise, you will receive a `\"Wrong answer\"` prompt."
   ]
  },
  {
   "cell_type": "code",
   "execution_count": 1,
   "metadata": {},
   "outputs": [
    {
     "name": "stdout",
     "output_type": "stream",
     "text": [
      "Running test case 0 with input '[[0.75, 1.0], 1.23]'...\n",
      "Correct!\n"
     ]
    }
   ],
   "source": [
    "import functools\n",
    "import json\n",
    "import math\n",
    "import pandas as pd\n",
    "import pennylane as qml\n",
    "import pennylane.numpy as np\n",
    "import scipy\n",
    "\n",
    "dev = qml.device(\"default.qubit\", wires=2)\n",
    "\n",
    "@qml.qnode(dev)\n",
    "def circuit(params):\n",
    "    \"\"\"The quantum circuit that you will differentiate!\n",
    "\n",
    "    Args:\n",
    "        params (list(float)): The parameters for gates in the circuit\n",
    "\n",
    "    Returns:\n",
    "        (numpy.array): An expectation value.\n",
    "    \"\"\"\n",
    "    qml.RY(params[0], 0)\n",
    "    qml.RX(params[1], 1)\n",
    "    return qml.expval(qml.PauliZ(0) + qml.PauliZ(1))\n",
    "\n",
    "\n",
    "def my_parameter_shift_grad(params, shift):\n",
    "    \"\"\"Your homemade parameter-shift rule function.\n",
    "    \n",
    "    NOTE: you cannot use qml.grad within this function\n",
    "\n",
    "    Args:\n",
    "        params (list(float)): The parameters for gates in the circuit\n",
    "\n",
    "    Returns:\n",
    "        gradient (numpy.array): The gradient of the circuit with respect to the given parameters.\n",
    "    \"\"\"\n",
    "    gradient = np.zeros_like(params)\n",
    "\n",
    "    new_params = [[params[0] + shift, params[0]-shift], [params[1] + shift, params[1]-shift]]\n",
    "    gradient[0] = (circuit([new_params[0][0], params[1]]) - circuit([new_params[0][1], params[1]]))/(2*np.sin(shift))\n",
    "    gradient[1] = (circuit([params[0], new_params[1][0]]) - circuit([params[0], new_params[1][1]]))/(2*np.sin(shift))\n",
    "\n",
    "    return np.round_(gradient, decimals=5).tolist()\n",
    "\n",
    "\n",
    "# These functions are responsible for testing the solution.\n",
    "\n",
    "def run(test_case_input: str) -> str:\n",
    "    params, shift = json.loads(test_case_input)\n",
    "    gradient = my_parameter_shift_grad(params, shift)\n",
    "    return str(gradient)\n",
    "\n",
    "def check(solution_output: str, expected_output: str) -> None:\n",
    "    solution_output = json.loads(solution_output)\n",
    "    expected_output = json.loads(expected_output)\n",
    "    assert np.allclose(\n",
    "        solution_output, expected_output, rtol=1e-4\n",
    "    ), \"Your gradient isn't quite right!\"\n",
    "\n",
    "\n",
    "test_cases = [['[[0.75, 1.0], 1.23]', '[-0.68164, -0.84147]']]\n",
    "\n",
    "for i, (input_, expected_output) in enumerate(test_cases):\n",
    "    print(f\"Running test case {i} with input '{input_}'...\")\n",
    "\n",
    "    try:\n",
    "        output = run(input_)\n",
    "\n",
    "    except Exception as exc:\n",
    "        print(f\"Runtime Error. {exc}\")\n",
    "\n",
    "    else:\n",
    "        message = 0\n",
    "        if message == check(output, expected_output):\n",
    "            print(f\"Wrong Answer. Have: '{output}'. Want: '{expected_output}'.\")\n",
    "\n",
    "        else:\n",
    "            print(\"Correct!\")"
   ]
  }
 ],
 "metadata": {
  "kernelspec": {
   "display_name": "Python 3.7.13 ('base')",
   "language": "python",
   "name": "python3"
  },
  "language_info": {
   "codemirror_mode": {
    "name": "ipython",
    "version": 3
   },
   "file_extension": ".py",
   "mimetype": "text/x-python",
   "name": "python",
   "nbconvert_exporter": "python",
   "pygments_lexer": "ipython3",
   "version": "3.7.13"
  },
  "orig_nbformat": 4,
  "vscode": {
   "interpreter": {
    "hash": "7cc63d8bb06c1e0227ac9b01a159a9605014b04eb1faff35da1ccc42cc4f7246"
   }
  }
 },
 "nbformat": 4,
 "nbformat_minor": 2
}
